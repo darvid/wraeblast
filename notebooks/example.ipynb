{
 "cells": [
  {
   "cell_type": "code",
   "execution_count": 23,
   "source": [
    "%matplotlib inline"
   ],
   "outputs": [],
   "metadata": {}
  },
  {
   "cell_type": "code",
   "execution_count": 24,
   "source": [
    "import asyncio\n",
    "from wraeblast import insights"
   ],
   "outputs": [],
   "metadata": {}
  },
  {
   "cell_type": "code",
   "execution_count": 25,
   "source": [
    "from matplotlib import pyplot as plt\n",
    "import pandas as pd"
   ],
   "outputs": [],
   "metadata": {}
  },
  {
   "cell_type": "code",
   "execution_count": 57,
   "source": [
    "loop = asyncio.get_event_loop()\n",
    "league = \"Expedition\"\n",
    "ctx = await insights.initialize_filter_context(league=league)"
   ],
   "outputs": [
    {
     "output_type": "stream",
     "name": "stdout",
     "text": [
      "2021-09-10 20:37.47 [info     ] cache.initialize               dir=./.insights_cache league=Expedition\n",
      "2021-09-10 20:37.47 [debug    ] cache.hit                      league=Expedition type=Currency\n",
      "2021-09-10 20:37.47 [debug    ] cache.hit                      league=Expedition type=Fragment\n",
      "2021-09-10 20:37.47 [debug    ] cache.hit                      league=Expedition type=Artifact\n",
      "2021-09-10 20:37.47 [debug    ] cache.hit                      league=Expedition type=BaseType\n",
      "2021-09-10 20:37.47 [debug    ] cache.hit                      league=Expedition type=Beast\n",
      "2021-09-10 20:37.47 [debug    ] cache.hit                      league=Expedition type=BlightedMap\n",
      "2021-09-10 20:37.47 [debug    ] cache.hit                      league=Expedition type=ClusterJewel\n",
      "2021-09-10 20:37.47 [debug    ] cache.hit                      league=Expedition type=DeliriumOrb\n",
      "2021-09-10 20:37.47 [debug    ] cache.hit                      league=Expedition type=DivinationCard\n",
      "2021-09-10 20:37.47 [debug    ] cache.hit                      league=Expedition type=Essence\n",
      "2021-09-10 20:37.47 [debug    ] cache.hit                      league=Expedition type=Fossil\n",
      "2021-09-10 20:37.47 [debug    ] cache.hit                      league=Expedition type=HelmetEnchant\n",
      "2021-09-10 20:37.47 [debug    ] cache.hit                      league=Expedition type=Incubator\n",
      "2021-09-10 20:37.47 [debug    ] cache.hit                      league=Expedition type=Invitation\n",
      "2021-09-10 20:37.47 [debug    ] cache.hit                      league=Expedition type=Map\n",
      "2021-09-10 20:37.47 [debug    ] cache.hit                      league=Expedition type=Oil\n",
      "2021-09-10 20:37.47 [debug    ] cache.hit                      league=Expedition type=Prophecy\n",
      "2021-09-10 20:37.47 [debug    ] cache.hit                      league=Expedition type=Resonator\n",
      "2021-09-10 20:37.47 [debug    ] cache.hit                      league=Expedition type=Scarab\n",
      "2021-09-10 20:37.47 [debug    ] cache.hit                      league=Expedition type=SkillGem\n",
      "2021-09-10 20:37.47 [debug    ] cache.hit                      league=Expedition type=UniqueAccessory\n",
      "2021-09-10 20:37.47 [debug    ] cache.hit                      league=Expedition type=UniqueArmour\n",
      "2021-09-10 20:37.47 [debug    ] cache.hit                      league=Expedition type=UniqueFlask\n",
      "2021-09-10 20:37.47 [debug    ] cache.hit                      league=Expedition type=UniqueJewel\n",
      "2021-09-10 20:37.47 [debug    ] cache.hit                      league=Expedition type=UniqueMap\n",
      "2021-09-10 20:37.47 [debug    ] cache.hit                      league=Expedition type=UniqueWeapon\n",
      "2021-09-10 20:37.47 [debug    ] cache.hit                      league=Expedition type=Vial\n",
      "2021-09-10 20:37.47 [debug    ] cache.hit                      league=Expedition type=Watchstone\n",
      "2021-09-10 20:37.47 [info     ] all_insights.get               league=Expedition\n"
     ]
    }
   ],
   "metadata": {}
  },
  {
   "cell_type": "code",
   "execution_count": 63,
   "source": [
    "ctx.currency.df[[\n",
    "    \"item_name\", \n",
    "    \"chaos_value\", \n",
    "    \"chaos_value_norm\", \n",
    "    \"quartile\", \n",
    "    \"quintile\", \n",
    "    \"decile\", \n",
    "    \"percentile\",\n",
    "]]"
   ],
   "outputs": [
    {
     "output_type": "execute_result",
     "data": {
      "text/html": [
       "<div>\n",
       "<style scoped>\n",
       "    .dataframe tbody tr th:only-of-type {\n",
       "        vertical-align: middle;\n",
       "    }\n",
       "\n",
       "    .dataframe tbody tr th {\n",
       "        vertical-align: top;\n",
       "    }\n",
       "\n",
       "    .dataframe thead th {\n",
       "        text-align: right;\n",
       "    }\n",
       "</style>\n",
       "<table border=\"1\" class=\"dataframe\">\n",
       "  <thead>\n",
       "    <tr style=\"text-align: right;\">\n",
       "      <th></th>\n",
       "      <th>item_name</th>\n",
       "      <th>chaos_value</th>\n",
       "      <th>chaos_value_norm</th>\n",
       "      <th>quartile</th>\n",
       "      <th>quintile</th>\n",
       "      <th>decile</th>\n",
       "      <th>percentile</th>\n",
       "    </tr>\n",
       "  </thead>\n",
       "  <tbody>\n",
       "    <tr>\n",
       "      <th>0</th>\n",
       "      <td>Mirror of Kalandra</td>\n",
       "      <td>61482.41</td>\n",
       "      <td>11.026506</td>\n",
       "      <td>4</td>\n",
       "      <td>5</td>\n",
       "      <td>10</td>\n",
       "      <td>100</td>\n",
       "    </tr>\n",
       "    <tr>\n",
       "      <th>1</th>\n",
       "      <td>Mirror Shard</td>\n",
       "      <td>3188.73</td>\n",
       "      <td>8.067378</td>\n",
       "      <td>4</td>\n",
       "      <td>5</td>\n",
       "      <td>10</td>\n",
       "      <td>99</td>\n",
       "    </tr>\n",
       "    <tr>\n",
       "      <th>2</th>\n",
       "      <td>Tempering Orb</td>\n",
       "      <td>800.29</td>\n",
       "      <td>6.684974</td>\n",
       "      <td>4</td>\n",
       "      <td>5</td>\n",
       "      <td>10</td>\n",
       "      <td>97</td>\n",
       "    </tr>\n",
       "    <tr>\n",
       "      <th>3</th>\n",
       "      <td>Maven's Orb</td>\n",
       "      <td>758.20</td>\n",
       "      <td>6.630947</td>\n",
       "      <td>4</td>\n",
       "      <td>5</td>\n",
       "      <td>10</td>\n",
       "      <td>96</td>\n",
       "    </tr>\n",
       "    <tr>\n",
       "      <th>4</th>\n",
       "      <td>Awakener's Orb</td>\n",
       "      <td>586.18</td>\n",
       "      <td>6.373627</td>\n",
       "      <td>4</td>\n",
       "      <td>5</td>\n",
       "      <td>10</td>\n",
       "      <td>94</td>\n",
       "    </tr>\n",
       "    <tr>\n",
       "      <th>...</th>\n",
       "      <td>...</td>\n",
       "      <td>...</td>\n",
       "      <td>...</td>\n",
       "      <td>...</td>\n",
       "      <td>...</td>\n",
       "      <td>...</td>\n",
       "      <td>...</td>\n",
       "    </tr>\n",
       "    <tr>\n",
       "      <th>61</th>\n",
       "      <td>Armourer's Scrap</td>\n",
       "      <td>0.04</td>\n",
       "      <td>-3.218876</td>\n",
       "      <td>1</td>\n",
       "      <td>1</td>\n",
       "      <td>1</td>\n",
       "      <td>8</td>\n",
       "    </tr>\n",
       "    <tr>\n",
       "      <th>62</th>\n",
       "      <td>Orb of Transmutation</td>\n",
       "      <td>0.03</td>\n",
       "      <td>-3.506558</td>\n",
       "      <td>1</td>\n",
       "      <td>1</td>\n",
       "      <td>1</td>\n",
       "      <td>4</td>\n",
       "    </tr>\n",
       "    <tr>\n",
       "      <th>63</th>\n",
       "      <td>Blacksmith's Whetstone</td>\n",
       "      <td>0.03</td>\n",
       "      <td>-3.506558</td>\n",
       "      <td>1</td>\n",
       "      <td>1</td>\n",
       "      <td>1</td>\n",
       "      <td>5</td>\n",
       "    </tr>\n",
       "    <tr>\n",
       "      <th>64</th>\n",
       "      <td>Engineer's Orb</td>\n",
       "      <td>0.02</td>\n",
       "      <td>-3.912023</td>\n",
       "      <td>1</td>\n",
       "      <td>1</td>\n",
       "      <td>1</td>\n",
       "      <td>2</td>\n",
       "    </tr>\n",
       "    <tr>\n",
       "      <th>65</th>\n",
       "      <td>Scroll of Wisdom</td>\n",
       "      <td>0.01</td>\n",
       "      <td>-4.605170</td>\n",
       "      <td>1</td>\n",
       "      <td>1</td>\n",
       "      <td>1</td>\n",
       "      <td>1</td>\n",
       "    </tr>\n",
       "  </tbody>\n",
       "</table>\n",
       "<p>66 rows × 7 columns</p>\n",
       "</div>"
      ],
      "text/plain": [
       "                 item_name  chaos_value  chaos_value_norm  quartile  quintile  \\\n",
       "0       Mirror of Kalandra     61482.41         11.026506         4         5   \n",
       "1             Mirror Shard      3188.73          8.067378         4         5   \n",
       "2            Tempering Orb       800.29          6.684974         4         5   \n",
       "3              Maven's Orb       758.20          6.630947         4         5   \n",
       "4           Awakener's Orb       586.18          6.373627         4         5   \n",
       "..                     ...          ...               ...       ...       ...   \n",
       "61        Armourer's Scrap         0.04         -3.218876         1         1   \n",
       "62    Orb of Transmutation         0.03         -3.506558         1         1   \n",
       "63  Blacksmith's Whetstone         0.03         -3.506558         1         1   \n",
       "64          Engineer's Orb         0.02         -3.912023         1         1   \n",
       "65        Scroll of Wisdom         0.01         -4.605170         1         1   \n",
       "\n",
       "    decile  percentile  \n",
       "0       10         100  \n",
       "1       10          99  \n",
       "2       10          97  \n",
       "3       10          96  \n",
       "4       10          94  \n",
       "..     ...         ...  \n",
       "61       1           8  \n",
       "62       1           4  \n",
       "63       1           5  \n",
       "64       1           2  \n",
       "65       1           1  \n",
       "\n",
       "[66 rows x 7 columns]"
      ]
     },
     "metadata": {},
     "execution_count": 63
    }
   ],
   "metadata": {}
  },
  {
   "cell_type": "code",
   "execution_count": 65,
   "source": [
    "ax = ctx.currency.df.plot(x=\"chaos_value_norm\", y=[\"quartile\", \"quintile\", \"decile\", \"percentile\"])"
   ],
   "outputs": [
    {
     "output_type": "display_data",
     "data": {
      "image/png": "[encoded data removed]",
      "text/plain": [
       "<Figure size 432x288 with 1 Axes>"
      ]
     },
     "metadata": {
      "needs_background": "light"
     }
    }
   ],
   "metadata": {}
  },
  {
   "cell_type": "code",
   "execution_count": 128,
   "source": [
    "ax = plt.hist(\n",
    "    [\n",
    "        ctx.currency.df.quartile.value_counts(),\n",
    "        ctx.currency.df.quintile.value_counts(),\n",
    "        ctx.currency.df.decile.value_counts(),\n",
    "        ctx.currency.df.percentile.value_counts(),\n",
    "    ],\n",
    "    bins=10,\n",
    "    stacked=True,\n",
    "    alpha=0.5,\n",
    ")"
   ],
   "outputs": [
    {
     "output_type": "display_data",
     "data": {
      "image/png": "[encoded data removed]",
      "text/plain": [
       "<Figure size 432x288 with 1 Axes>"
      ]
     },
     "metadata": {
      "needs_background": "light"
     }
    }
   ],
   "metadata": {}
  },
  {
   "cell_type": "code",
   "execution_count": null,
   "source": [],
   "outputs": [],
   "metadata": {}
  }
 ],
 "metadata": {
  "kernelspec": {
   "name": "python3",
   "display_name": "Python 3.9.6 64-bit ('wraeblast': conda)"
  },
  "language_info": {
   "codemirror_mode": {
    "name": "ipython",
    "version": 3
   },
   "file_extension": ".py",
   "mimetype": "text/x-python",
   "name": "python",
   "nbconvert_exporter": "python",
   "pygments_lexer": "ipython3",
   "version": "3.9.6"
  },
  "interpreter": {
   "hash": "4b1ab36a5248576c22e5dfd5b986742793915e962f43279b62d6168b110cfc0c"
  }
 },
 "nbformat": 4,
 "nbformat_minor": 5
}
